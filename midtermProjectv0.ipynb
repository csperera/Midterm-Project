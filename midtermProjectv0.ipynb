{
 "cells": [
  {
   "cell_type": "markdown",
   "id": "f873b526",
   "metadata": {},
   "source": [
    "# THANKS FOR YOUR INTEREST - PLEASE CONTACT ME AT christian@wealthmind.ai TO DISCUSS THIS ALGORITHM"
   ]
  }
 ],
 "metadata": {
  "kernelspec": {
   "display_name": "testEnv",
   "language": "python",
   "name": "testenv"
  },
  "language_info": {
   "codemirror_mode": {
    "name": "ipython",
    "version": 3
   },
   "file_extension": ".py",
   "mimetype": "text/x-python",
   "name": "python",
   "nbconvert_exporter": "python",
   "pygments_lexer": "ipython3",
   "version": "3.10.9"
  }
 },
 "nbformat": 4,
 "nbformat_minor": 5
}
